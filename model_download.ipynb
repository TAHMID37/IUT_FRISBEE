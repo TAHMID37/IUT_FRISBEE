{
 "cells": [
  {
   "cell_type": "code",
   "execution_count": 5,
   "metadata": {},
   "outputs": [
    {
     "name": "stderr",
     "output_type": "stream",
     "text": [
      "Downloading: 100%|██████████| 1.26G/1.26G [22:32<00:00, 933kB/s]  \n",
      "Some weights of the model checkpoint at theainerd/Wav2Vec2-large-xlsr-hindi were not used when initializing Wav2Vec2ForCTC: ['wav2vec2.encoder.pos_conv_embed.conv.weight_g', 'wav2vec2.encoder.pos_conv_embed.conv.weight_v']\n",
      "- This IS expected if you are initializing Wav2Vec2ForCTC from the checkpoint of a model trained on another task or with another architecture (e.g. initializing a BertForSequenceClassification model from a BertForPreTraining model).\n",
      "- This IS NOT expected if you are initializing Wav2Vec2ForCTC from the checkpoint of a model that you expect to be exactly identical (initializing a BertForSequenceClassification model from a BertForSequenceClassification model).\n",
      "Some weights of Wav2Vec2ForCTC were not initialized from the model checkpoint at theainerd/Wav2Vec2-large-xlsr-hindi and are newly initialized: ['wav2vec2.encoder.pos_conv_embed.conv.parametrizations.weight.original0', 'wav2vec2.encoder.pos_conv_embed.conv.parametrizations.weight.original1']\n",
      "You should probably TRAIN this model on a down-stream task to be able to use it for predictions and inference.\n",
      "Saving model:   0%|          | 0/100 [00:00<?, ?%/s]d:\\Installed Softwares\\All kind of IDE or Editors or Programming Language\\Anaconda3\\envs\\yobo_hackathon\\Lib\\site-packages\\transformers\\modeling_utils.py:2288: UserWarning: `save_config` is deprecated and will be removed in v5 of Transformers. Use `is_main_process` instead.\n",
      "  warnings.warn(\n",
      "Saving model: 100%|██████████| 100/100 [00:00<00:00, 158.68%/s]\n"
     ]
    }
   ],
   "source": [
    "from datasets.utils.file_utils import cached_path\n",
    "from tqdm import tqdm\n",
    "from transformers import Wav2Vec2ForCTC\n",
    "\n",
    "model_name = \"theainerd/Wav2Vec2-large-xlsr-hindi\"\n",
    "\n",
    "# Function to download model with tqdm progress bar\n",
    "def download_model(model_name):\n",
    "    resolved_archive_file = cached_path(\n",
    "        f\"https://huggingface.co/{model_name}/resolve/main/pytorch_model.bin\",\n",
    "        force_download=True,\n",
    "        extract_compressed_file=True,\n",
    "        cache_dir=None,\n",
    "    )\n",
    "    return resolved_archive_file\n",
    "\n",
    "# Download the model with tqdm progress bar\n",
    "model_path = download_model(model_name)\n",
    "\n",
    "# Load the pre-trained model\n",
    "model = Wav2Vec2ForCTC.from_pretrained(model_name)\n",
    "\n",
    "# Save the model with tqdm progress bar\n",
    "with tqdm(total=100, desc=\"Saving model\", unit=\"%\") as pbar:\n",
    "    model.save_pretrained(\"model/hindi_asr_model/Wav2Vec2-large-xlsr-hindi\", save_config=True)\n",
    "    pbar.update(100)\n"
   ]
  }
 ],
 "metadata": {
  "kernelspec": {
   "display_name": "yobo_hackathon",
   "language": "python",
   "name": "python3"
  },
  "language_info": {
   "codemirror_mode": {
    "name": "ipython",
    "version": 3
   },
   "file_extension": ".py",
   "mimetype": "text/x-python",
   "name": "python",
   "nbconvert_exporter": "python",
   "pygments_lexer": "ipython3",
   "version": "3.11.8"
  }
 },
 "nbformat": 4,
 "nbformat_minor": 2
}
